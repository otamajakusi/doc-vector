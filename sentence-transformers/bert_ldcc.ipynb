{
  "nbformat": 4,
  "nbformat_minor": 0,
  "metadata": {
    "colab": {
      "provenance": [],
      "toc_visible": true,
      "mount_file_id": "1yC5F-FlWam0U8PQzmqa7UGrfb0qTttFU",
      "authorship_tag": "ABX9TyPKaENGFlppixcWQtqKsf08",
      "include_colab_link": true
    },
    "kernelspec": {
      "name": "python3",
      "display_name": "Python 3"
    },
    "language_info": {
      "name": "python"
    },
    "accelerator": "GPU",
    "gpuClass": "standard"
  },
  "cells": [
    {
      "cell_type": "markdown",
      "metadata": {
        "id": "view-in-github",
        "colab_type": "text"
      },
      "source": [
        "<a href=\"https://colab.research.google.com/github/otamajakusi/doc-vector/blob/main/sentence-transformers/bert_ldcc.ipynb\" target=\"_parent\"><img src=\"https://colab.research.google.com/assets/colab-badge.svg\" alt=\"Open In Colab\"/></a>"
      ]
    },
    {
      "cell_type": "code",
      "source": [
        "from google.colab import drive\n",
        "drive.mount('/content/drive')"
      ],
      "metadata": {
        "colab": {
          "base_uri": "https://localhost:8080/"
        },
        "id": "54SHsnzEo9M_",
        "outputId": "a59a4ba4-cdfd-4fba-8933-21ac15b511c3"
      },
      "execution_count": 16,
      "outputs": [
        {
          "output_type": "stream",
          "name": "stdout",
          "text": [
            "Drive already mounted at /content/drive; to attempt to forcibly remount, call drive.mount(\"/content/drive\", force_remount=True).\n"
          ]
        }
      ]
    },
    {
      "cell_type": "code",
      "execution_count": 17,
      "metadata": {
        "colab": {
          "base_uri": "https://localhost:8080/"
        },
        "id": "x-XEec8Bf2K-",
        "outputId": "6f1c479b-90de-4b1c-e2c4-36e0a2fed3cc"
      },
      "outputs": [
        {
          "output_type": "stream",
          "name": "stdout",
          "text": [
            "Cloning into 'doc-vector'...\n",
            "remote: Enumerating objects: 38, done.\u001b[K\n",
            "remote: Counting objects: 100% (38/38), done.\u001b[K\n",
            "remote: Compressing objects: 100% (20/20), done.\u001b[K\n",
            "remote: Total 38 (delta 13), reused 31 (delta 9), pack-reused 0\u001b[K\n",
            "Unpacking objects: 100% (38/38), 12.76 KiB | 1004.00 KiB/s, done.\n"
          ]
        }
      ],
      "source": [
        "!git clone https://github.com/otamajakusi/doc-vector"
      ]
    },
    {
      "cell_type": "code",
      "source": [
        "%cd doc-vector/sentence-transformers"
      ],
      "metadata": {
        "colab": {
          "base_uri": "https://localhost:8080/"
        },
        "id": "gzAseMc1f_M2",
        "outputId": "e32f105e-eb43-454b-b738-ce3e7aa45be3"
      },
      "execution_count": 18,
      "outputs": [
        {
          "output_type": "stream",
          "name": "stdout",
          "text": [
            "/content/doc-vector/sentence-transformers\n"
          ]
        }
      ]
    },
    {
      "cell_type": "code",
      "source": [
        "!pip install -r requirements.txt\n",
        "!pip install -r requirements-notebook.txt"
      ],
      "metadata": {
        "colab": {
          "base_uri": "https://localhost:8080/"
        },
        "id": "HdcK79mjg0O8",
        "outputId": "7dbcf6e1-e46a-4579-b49f-0a2479ce7f51"
      },
      "execution_count": 22,
      "outputs": [
        {
          "output_type": "stream",
          "name": "stdout",
          "text": [
            "Looking in indexes: https://pypi.org/simple, https://us-python.pkg.dev/colab-wheels/public/simple/\n",
            "Requirement already satisfied: sentence-transformers in /usr/local/lib/python3.9/dist-packages (from -r requirements.txt (line 1)) (2.2.2)\n",
            "Requirement already satisfied: fugashi in /usr/local/lib/python3.9/dist-packages (from -r requirements.txt (line 2)) (1.2.1)\n",
            "Requirement already satisfied: ipadic in /usr/local/lib/python3.9/dist-packages (from -r requirements.txt (line 3)) (1.0.0)\n",
            "Requirement already satisfied: unidic-lite in /usr/local/lib/python3.9/dist-packages (from -r requirements.txt (line 4)) (1.0.8)\n",
            "Requirement already satisfied: pandas in /usr/local/lib/python3.9/dist-packages (from -r requirements.txt (line 5)) (1.5.3)\n",
            "Requirement already satisfied: huggingface-hub>=0.4.0 in /usr/local/lib/python3.9/dist-packages (from sentence-transformers->-r requirements.txt (line 1)) (0.13.4)\n",
            "Requirement already satisfied: scikit-learn in /usr/local/lib/python3.9/dist-packages (from sentence-transformers->-r requirements.txt (line 1)) (1.2.2)\n",
            "Requirement already satisfied: torchvision in /usr/local/lib/python3.9/dist-packages (from sentence-transformers->-r requirements.txt (line 1)) (0.15.1+cu118)\n",
            "Requirement already satisfied: scipy in /usr/local/lib/python3.9/dist-packages (from sentence-transformers->-r requirements.txt (line 1)) (1.10.1)\n",
            "Requirement already satisfied: tqdm in /usr/local/lib/python3.9/dist-packages (from sentence-transformers->-r requirements.txt (line 1)) (4.65.0)\n",
            "Requirement already satisfied: numpy in /usr/local/lib/python3.9/dist-packages (from sentence-transformers->-r requirements.txt (line 1)) (1.22.4)\n",
            "Requirement already satisfied: nltk in /usr/local/lib/python3.9/dist-packages (from sentence-transformers->-r requirements.txt (line 1)) (3.8.1)\n",
            "Requirement already satisfied: torch>=1.6.0 in /usr/local/lib/python3.9/dist-packages (from sentence-transformers->-r requirements.txt (line 1)) (2.0.0+cu118)\n",
            "Requirement already satisfied: sentencepiece in /usr/local/lib/python3.9/dist-packages (from sentence-transformers->-r requirements.txt (line 1)) (0.1.98)\n",
            "Requirement already satisfied: transformers<5.0.0,>=4.6.0 in /usr/local/lib/python3.9/dist-packages (from sentence-transformers->-r requirements.txt (line 1)) (4.28.1)\n",
            "Requirement already satisfied: pytz>=2020.1 in /usr/local/lib/python3.9/dist-packages (from pandas->-r requirements.txt (line 5)) (2022.7.1)\n",
            "Requirement already satisfied: python-dateutil>=2.8.1 in /usr/local/lib/python3.9/dist-packages (from pandas->-r requirements.txt (line 5)) (2.8.2)\n",
            "Requirement already satisfied: packaging>=20.9 in /usr/local/lib/python3.9/dist-packages (from huggingface-hub>=0.4.0->sentence-transformers->-r requirements.txt (line 1)) (23.1)\n",
            "Requirement already satisfied: typing-extensions>=3.7.4.3 in /usr/local/lib/python3.9/dist-packages (from huggingface-hub>=0.4.0->sentence-transformers->-r requirements.txt (line 1)) (4.5.0)\n",
            "Requirement already satisfied: pyyaml>=5.1 in /usr/local/lib/python3.9/dist-packages (from huggingface-hub>=0.4.0->sentence-transformers->-r requirements.txt (line 1)) (6.0)\n",
            "Requirement already satisfied: requests in /usr/local/lib/python3.9/dist-packages (from huggingface-hub>=0.4.0->sentence-transformers->-r requirements.txt (line 1)) (2.27.1)\n",
            "Requirement already satisfied: filelock in /usr/local/lib/python3.9/dist-packages (from huggingface-hub>=0.4.0->sentence-transformers->-r requirements.txt (line 1)) (3.11.0)\n",
            "Requirement already satisfied: six>=1.5 in /usr/local/lib/python3.9/dist-packages (from python-dateutil>=2.8.1->pandas->-r requirements.txt (line 5)) (1.16.0)\n",
            "Requirement already satisfied: triton==2.0.0 in /usr/local/lib/python3.9/dist-packages (from torch>=1.6.0->sentence-transformers->-r requirements.txt (line 1)) (2.0.0)\n",
            "Requirement already satisfied: jinja2 in /usr/local/lib/python3.9/dist-packages (from torch>=1.6.0->sentence-transformers->-r requirements.txt (line 1)) (3.1.2)\n",
            "Requirement already satisfied: networkx in /usr/local/lib/python3.9/dist-packages (from torch>=1.6.0->sentence-transformers->-r requirements.txt (line 1)) (3.1)\n",
            "Requirement already satisfied: sympy in /usr/local/lib/python3.9/dist-packages (from torch>=1.6.0->sentence-transformers->-r requirements.txt (line 1)) (1.11.1)\n",
            "Requirement already satisfied: lit in /usr/local/lib/python3.9/dist-packages (from triton==2.0.0->torch>=1.6.0->sentence-transformers->-r requirements.txt (line 1)) (16.0.1)\n",
            "Requirement already satisfied: cmake in /usr/local/lib/python3.9/dist-packages (from triton==2.0.0->torch>=1.6.0->sentence-transformers->-r requirements.txt (line 1)) (3.25.2)\n",
            "Requirement already satisfied: regex!=2019.12.17 in /usr/local/lib/python3.9/dist-packages (from transformers<5.0.0,>=4.6.0->sentence-transformers->-r requirements.txt (line 1)) (2022.10.31)\n",
            "Requirement already satisfied: tokenizers!=0.11.3,<0.14,>=0.11.1 in /usr/local/lib/python3.9/dist-packages (from transformers<5.0.0,>=4.6.0->sentence-transformers->-r requirements.txt (line 1)) (0.13.3)\n",
            "Requirement already satisfied: click in /usr/local/lib/python3.9/dist-packages (from nltk->sentence-transformers->-r requirements.txt (line 1)) (8.1.3)\n",
            "Requirement already satisfied: joblib in /usr/local/lib/python3.9/dist-packages (from nltk->sentence-transformers->-r requirements.txt (line 1)) (1.2.0)\n",
            "Requirement already satisfied: threadpoolctl>=2.0.0 in /usr/local/lib/python3.9/dist-packages (from scikit-learn->sentence-transformers->-r requirements.txt (line 1)) (3.1.0)\n",
            "Requirement already satisfied: pillow!=8.3.*,>=5.3.0 in /usr/local/lib/python3.9/dist-packages (from torchvision->sentence-transformers->-r requirements.txt (line 1)) (8.4.0)\n",
            "Requirement already satisfied: MarkupSafe>=2.0 in /usr/local/lib/python3.9/dist-packages (from jinja2->torch>=1.6.0->sentence-transformers->-r requirements.txt (line 1)) (2.1.2)\n",
            "Requirement already satisfied: urllib3<1.27,>=1.21.1 in /usr/local/lib/python3.9/dist-packages (from requests->huggingface-hub>=0.4.0->sentence-transformers->-r requirements.txt (line 1)) (1.26.15)\n",
            "Requirement already satisfied: certifi>=2017.4.17 in /usr/local/lib/python3.9/dist-packages (from requests->huggingface-hub>=0.4.0->sentence-transformers->-r requirements.txt (line 1)) (2022.12.7)\n",
            "Requirement already satisfied: idna<4,>=2.5 in /usr/local/lib/python3.9/dist-packages (from requests->huggingface-hub>=0.4.0->sentence-transformers->-r requirements.txt (line 1)) (3.4)\n",
            "Requirement already satisfied: charset-normalizer~=2.0.0 in /usr/local/lib/python3.9/dist-packages (from requests->huggingface-hub>=0.4.0->sentence-transformers->-r requirements.txt (line 1)) (2.0.12)\n",
            "Requirement already satisfied: mpmath>=0.19 in /usr/local/lib/python3.9/dist-packages (from sympy->torch>=1.6.0->sentence-transformers->-r requirements.txt (line 1)) (1.3.0)\n",
            "Looking in indexes: https://pypi.org/simple, https://us-python.pkg.dev/colab-wheels/public/simple/\n",
            "Requirement already satisfied: ipywidgets in /usr/local/lib/python3.9/dist-packages (from -r requirements-notebook.txt (line 1)) (7.7.1)\n",
            "Requirement already satisfied: ipython-genutils~=0.2.0 in /usr/local/lib/python3.9/dist-packages (from ipywidgets->-r requirements-notebook.txt (line 1)) (0.2.0)\n",
            "Requirement already satisfied: jupyterlab-widgets>=1.0.0 in /usr/local/lib/python3.9/dist-packages (from ipywidgets->-r requirements-notebook.txt (line 1)) (3.0.7)\n",
            "Requirement already satisfied: ipython>=4.0.0 in /usr/local/lib/python3.9/dist-packages (from ipywidgets->-r requirements-notebook.txt (line 1)) (7.34.0)\n",
            "Requirement already satisfied: traitlets>=4.3.1 in /usr/local/lib/python3.9/dist-packages (from ipywidgets->-r requirements-notebook.txt (line 1)) (5.7.1)\n",
            "Requirement already satisfied: ipykernel>=4.5.1 in /usr/local/lib/python3.9/dist-packages (from ipywidgets->-r requirements-notebook.txt (line 1)) (5.5.6)\n",
            "Requirement already satisfied: widgetsnbextension~=3.6.0 in /usr/local/lib/python3.9/dist-packages (from ipywidgets->-r requirements-notebook.txt (line 1)) (3.6.4)\n",
            "Requirement already satisfied: tornado>=4.2 in /usr/local/lib/python3.9/dist-packages (from ipykernel>=4.5.1->ipywidgets->-r requirements-notebook.txt (line 1)) (6.2)\n",
            "Requirement already satisfied: jupyter-client in /usr/local/lib/python3.9/dist-packages (from ipykernel>=4.5.1->ipywidgets->-r requirements-notebook.txt (line 1)) (6.1.12)\n",
            "Requirement already satisfied: decorator in /usr/local/lib/python3.9/dist-packages (from ipython>=4.0.0->ipywidgets->-r requirements-notebook.txt (line 1)) (4.4.2)\n",
            "Requirement already satisfied: prompt-toolkit!=3.0.0,!=3.0.1,<3.1.0,>=2.0.0 in /usr/local/lib/python3.9/dist-packages (from ipython>=4.0.0->ipywidgets->-r requirements-notebook.txt (line 1)) (3.0.38)\n",
            "Requirement already satisfied: pygments in /usr/local/lib/python3.9/dist-packages (from ipython>=4.0.0->ipywidgets->-r requirements-notebook.txt (line 1)) (2.14.0)\n",
            "Requirement already satisfied: pickleshare in /usr/local/lib/python3.9/dist-packages (from ipython>=4.0.0->ipywidgets->-r requirements-notebook.txt (line 1)) (0.7.5)\n",
            "Requirement already satisfied: backcall in /usr/local/lib/python3.9/dist-packages (from ipython>=4.0.0->ipywidgets->-r requirements-notebook.txt (line 1)) (0.2.0)\n",
            "Requirement already satisfied: matplotlib-inline in /usr/local/lib/python3.9/dist-packages (from ipython>=4.0.0->ipywidgets->-r requirements-notebook.txt (line 1)) (0.1.6)\n",
            "Requirement already satisfied: pexpect>4.3 in /usr/local/lib/python3.9/dist-packages (from ipython>=4.0.0->ipywidgets->-r requirements-notebook.txt (line 1)) (4.8.0)\n",
            "Requirement already satisfied: setuptools>=18.5 in /usr/local/lib/python3.9/dist-packages (from ipython>=4.0.0->ipywidgets->-r requirements-notebook.txt (line 1)) (67.6.1)\n",
            "Collecting jedi>=0.16\n",
            "  Downloading jedi-0.18.2-py2.py3-none-any.whl (1.6 MB)\n",
            "\u001b[2K     \u001b[90m━━━━━━━━━━━━━━━━━━━━━━━━━━━━━━━━━━━━━━━━\u001b[0m \u001b[32m1.6/1.6 MB\u001b[0m \u001b[31m23.3 MB/s\u001b[0m eta \u001b[36m0:00:00\u001b[0m\n",
            "\u001b[?25hRequirement already satisfied: notebook>=4.4.1 in /usr/local/lib/python3.9/dist-packages (from widgetsnbextension~=3.6.0->ipywidgets->-r requirements-notebook.txt (line 1)) (6.4.8)\n",
            "Requirement already satisfied: parso<0.9.0,>=0.8.0 in /usr/local/lib/python3.9/dist-packages (from jedi>=0.16->ipython>=4.0.0->ipywidgets->-r requirements-notebook.txt (line 1)) (0.8.3)\n",
            "Requirement already satisfied: jupyter-core>=4.6.1 in /usr/local/lib/python3.9/dist-packages (from notebook>=4.4.1->widgetsnbextension~=3.6.0->ipywidgets->-r requirements-notebook.txt (line 1)) (5.3.0)\n",
            "Requirement already satisfied: nbconvert in /usr/local/lib/python3.9/dist-packages (from notebook>=4.4.1->widgetsnbextension~=3.6.0->ipywidgets->-r requirements-notebook.txt (line 1)) (6.5.4)\n",
            "Requirement already satisfied: terminado>=0.8.3 in /usr/local/lib/python3.9/dist-packages (from notebook>=4.4.1->widgetsnbextension~=3.6.0->ipywidgets->-r requirements-notebook.txt (line 1)) (0.17.1)\n",
            "Requirement already satisfied: nest-asyncio>=1.5 in /usr/local/lib/python3.9/dist-packages (from notebook>=4.4.1->widgetsnbextension~=3.6.0->ipywidgets->-r requirements-notebook.txt (line 1)) (1.5.6)\n",
            "Requirement already satisfied: prometheus-client in /usr/local/lib/python3.9/dist-packages (from notebook>=4.4.1->widgetsnbextension~=3.6.0->ipywidgets->-r requirements-notebook.txt (line 1)) (0.16.0)\n",
            "Requirement already satisfied: argon2-cffi in /usr/local/lib/python3.9/dist-packages (from notebook>=4.4.1->widgetsnbextension~=3.6.0->ipywidgets->-r requirements-notebook.txt (line 1)) (21.3.0)\n",
            "Requirement already satisfied: pyzmq>=17 in /usr/local/lib/python3.9/dist-packages (from notebook>=4.4.1->widgetsnbextension~=3.6.0->ipywidgets->-r requirements-notebook.txt (line 1)) (23.2.1)\n",
            "Requirement already satisfied: nbformat in /usr/local/lib/python3.9/dist-packages (from notebook>=4.4.1->widgetsnbextension~=3.6.0->ipywidgets->-r requirements-notebook.txt (line 1)) (5.8.0)\n",
            "Requirement already satisfied: Send2Trash>=1.8.0 in /usr/local/lib/python3.9/dist-packages (from notebook>=4.4.1->widgetsnbextension~=3.6.0->ipywidgets->-r requirements-notebook.txt (line 1)) (1.8.0)\n",
            "Requirement already satisfied: jinja2 in /usr/local/lib/python3.9/dist-packages (from notebook>=4.4.1->widgetsnbextension~=3.6.0->ipywidgets->-r requirements-notebook.txt (line 1)) (3.1.2)\n",
            "Requirement already satisfied: python-dateutil>=2.1 in /usr/local/lib/python3.9/dist-packages (from jupyter-client->ipykernel>=4.5.1->ipywidgets->-r requirements-notebook.txt (line 1)) (2.8.2)\n",
            "Requirement already satisfied: ptyprocess>=0.5 in /usr/local/lib/python3.9/dist-packages (from pexpect>4.3->ipython>=4.0.0->ipywidgets->-r requirements-notebook.txt (line 1)) (0.7.0)\n",
            "Requirement already satisfied: wcwidth in /usr/local/lib/python3.9/dist-packages (from prompt-toolkit!=3.0.0,!=3.0.1,<3.1.0,>=2.0.0->ipython>=4.0.0->ipywidgets->-r requirements-notebook.txt (line 1)) (0.2.6)\n",
            "Requirement already satisfied: platformdirs>=2.5 in /usr/local/lib/python3.9/dist-packages (from jupyter-core>=4.6.1->notebook>=4.4.1->widgetsnbextension~=3.6.0->ipywidgets->-r requirements-notebook.txt (line 1)) (3.2.0)\n",
            "Requirement already satisfied: six>=1.5 in /usr/local/lib/python3.9/dist-packages (from python-dateutil>=2.1->jupyter-client->ipykernel>=4.5.1->ipywidgets->-r requirements-notebook.txt (line 1)) (1.16.0)\n",
            "Requirement already satisfied: argon2-cffi-bindings in /usr/local/lib/python3.9/dist-packages (from argon2-cffi->notebook>=4.4.1->widgetsnbextension~=3.6.0->ipywidgets->-r requirements-notebook.txt (line 1)) (21.2.0)\n",
            "Requirement already satisfied: MarkupSafe>=2.0 in /usr/local/lib/python3.9/dist-packages (from jinja2->notebook>=4.4.1->widgetsnbextension~=3.6.0->ipywidgets->-r requirements-notebook.txt (line 1)) (2.1.2)\n",
            "Requirement already satisfied: tinycss2 in /usr/local/lib/python3.9/dist-packages (from nbconvert->notebook>=4.4.1->widgetsnbextension~=3.6.0->ipywidgets->-r requirements-notebook.txt (line 1)) (1.2.1)\n",
            "Requirement already satisfied: nbclient>=0.5.0 in /usr/local/lib/python3.9/dist-packages (from nbconvert->notebook>=4.4.1->widgetsnbextension~=3.6.0->ipywidgets->-r requirements-notebook.txt (line 1)) (0.7.3)\n",
            "Requirement already satisfied: packaging in /usr/local/lib/python3.9/dist-packages (from nbconvert->notebook>=4.4.1->widgetsnbextension~=3.6.0->ipywidgets->-r requirements-notebook.txt (line 1)) (23.1)\n",
            "Requirement already satisfied: bleach in /usr/local/lib/python3.9/dist-packages (from nbconvert->notebook>=4.4.1->widgetsnbextension~=3.6.0->ipywidgets->-r requirements-notebook.txt (line 1)) (6.0.0)\n",
            "Requirement already satisfied: defusedxml in /usr/local/lib/python3.9/dist-packages (from nbconvert->notebook>=4.4.1->widgetsnbextension~=3.6.0->ipywidgets->-r requirements-notebook.txt (line 1)) (0.7.1)\n",
            "Requirement already satisfied: entrypoints>=0.2.2 in /usr/local/lib/python3.9/dist-packages (from nbconvert->notebook>=4.4.1->widgetsnbextension~=3.6.0->ipywidgets->-r requirements-notebook.txt (line 1)) (0.4)\n",
            "Requirement already satisfied: mistune<2,>=0.8.1 in /usr/local/lib/python3.9/dist-packages (from nbconvert->notebook>=4.4.1->widgetsnbextension~=3.6.0->ipywidgets->-r requirements-notebook.txt (line 1)) (0.8.4)\n",
            "Requirement already satisfied: pandocfilters>=1.4.1 in /usr/local/lib/python3.9/dist-packages (from nbconvert->notebook>=4.4.1->widgetsnbextension~=3.6.0->ipywidgets->-r requirements-notebook.txt (line 1)) (1.5.0)\n",
            "Requirement already satisfied: beautifulsoup4 in /usr/local/lib/python3.9/dist-packages (from nbconvert->notebook>=4.4.1->widgetsnbextension~=3.6.0->ipywidgets->-r requirements-notebook.txt (line 1)) (4.11.2)\n",
            "Requirement already satisfied: jupyterlab-pygments in /usr/local/lib/python3.9/dist-packages (from nbconvert->notebook>=4.4.1->widgetsnbextension~=3.6.0->ipywidgets->-r requirements-notebook.txt (line 1)) (0.2.2)\n",
            "Requirement already satisfied: lxml in /usr/local/lib/python3.9/dist-packages (from nbconvert->notebook>=4.4.1->widgetsnbextension~=3.6.0->ipywidgets->-r requirements-notebook.txt (line 1)) (4.9.2)\n",
            "Requirement already satisfied: jsonschema>=2.6 in /usr/local/lib/python3.9/dist-packages (from nbformat->notebook>=4.4.1->widgetsnbextension~=3.6.0->ipywidgets->-r requirements-notebook.txt (line 1)) (4.3.3)\n",
            "Requirement already satisfied: fastjsonschema in /usr/local/lib/python3.9/dist-packages (from nbformat->notebook>=4.4.1->widgetsnbextension~=3.6.0->ipywidgets->-r requirements-notebook.txt (line 1)) (2.16.3)\n",
            "Requirement already satisfied: attrs>=17.4.0 in /usr/local/lib/python3.9/dist-packages (from jsonschema>=2.6->nbformat->notebook>=4.4.1->widgetsnbextension~=3.6.0->ipywidgets->-r requirements-notebook.txt (line 1)) (23.1.0)\n",
            "Requirement already satisfied: pyrsistent!=0.17.0,!=0.17.1,!=0.17.2,>=0.14.0 in /usr/local/lib/python3.9/dist-packages (from jsonschema>=2.6->nbformat->notebook>=4.4.1->widgetsnbextension~=3.6.0->ipywidgets->-r requirements-notebook.txt (line 1)) (0.19.3)\n",
            "Requirement already satisfied: cffi>=1.0.1 in /usr/local/lib/python3.9/dist-packages (from argon2-cffi-bindings->argon2-cffi->notebook>=4.4.1->widgetsnbextension~=3.6.0->ipywidgets->-r requirements-notebook.txt (line 1)) (1.15.1)\n",
            "Requirement already satisfied: soupsieve>1.2 in /usr/local/lib/python3.9/dist-packages (from beautifulsoup4->nbconvert->notebook>=4.4.1->widgetsnbextension~=3.6.0->ipywidgets->-r requirements-notebook.txt (line 1)) (2.4.1)\n",
            "Requirement already satisfied: webencodings in /usr/local/lib/python3.9/dist-packages (from bleach->nbconvert->notebook>=4.4.1->widgetsnbextension~=3.6.0->ipywidgets->-r requirements-notebook.txt (line 1)) (0.5.1)\n",
            "Requirement already satisfied: pycparser in /usr/local/lib/python3.9/dist-packages (from cffi>=1.0.1->argon2-cffi-bindings->argon2-cffi->notebook>=4.4.1->widgetsnbextension~=3.6.0->ipywidgets->-r requirements-notebook.txt (line 1)) (2.21)\n",
            "Installing collected packages: jedi\n",
            "Successfully installed jedi-0.18.2\n"
          ]
        }
      ]
    },
    {
      "cell_type": "code",
      "source": [
        "!bash download-ldcc.sh"
      ],
      "metadata": {
        "colab": {
          "base_uri": "https://localhost:8080/"
        },
        "id": "KM0EiiGlgGnN",
        "outputId": "44e875a8-20cf-4804-ade6-0c2ebfa82f9b"
      },
      "execution_count": 20,
      "outputs": [
        {
          "output_type": "stream",
          "name": "stdout",
          "text": [
            "--2023-04-22 06:30:30--  https://www.rondhuit.com/download/ldcc-20140209.tar.gz\n",
            "Resolving www.rondhuit.com (www.rondhuit.com)... 59.106.19.174\n",
            "Connecting to www.rondhuit.com (www.rondhuit.com)|59.106.19.174|:443... connected.\n",
            "HTTP request sent, awaiting response... 200 OK\n",
            "Length: 8855190 (8.4M) [application/x-gzip]\n",
            "Saving to: ‘ldcc-20140209.tar.gz’\n",
            "\n",
            "ldcc-20140209.tar.g 100%[===================>]   8.44M  2.60MB/s    in 3.3s    \n",
            "\n",
            "2023-04-22 06:30:34 (2.60 MB/s) - ‘ldcc-20140209.tar.gz’ saved [8855190/8855190]\n",
            "\n"
          ]
        }
      ]
    },
    {
      "cell_type": "code",
      "source": [
        "!python3 create_dataset.py --train-txt /content/drive/MyDrive/ml-bert/ldcc_train.txt --val-txt /content/drive/MyDrive/ml-bert/ldcc_val.txt --test-txt /content/drive/MyDrive/ml-bert/ldcc_text.txt"
      ],
      "metadata": {
        "id": "q4TM2Zyyg7-N"
      },
      "execution_count": 26,
      "outputs": []
    },
    {
      "cell_type": "code",
      "source": [
        "!git pull"
      ],
      "metadata": {
        "colab": {
          "base_uri": "https://localhost:8080/"
        },
        "id": "oP9RbjGawe0K",
        "outputId": "a592a31c-40d4-4c3e-baa7-d029a14567cf"
      },
      "execution_count": 31,
      "outputs": [
        {
          "output_type": "stream",
          "name": "stdout",
          "text": [
            "remote: Enumerating objects: 7, done.\u001b[K\n",
            "remote: Counting objects:  14% (1/7)\u001b[K\rremote: Counting objects:  28% (2/7)\u001b[K\rremote: Counting objects:  42% (3/7)\u001b[K\rremote: Counting objects:  57% (4/7)\u001b[K\rremote: Counting objects:  71% (5/7)\u001b[K\rremote: Counting objects:  85% (6/7)\u001b[K\rremote: Counting objects: 100% (7/7)\u001b[K\rremote: Counting objects: 100% (7/7), done.\u001b[K\n",
            "remote: Compressing objects: 100% (1/1)\u001b[K\rremote: Compressing objects: 100% (1/1), done.\u001b[K\n",
            "Unpacking objects:  25% (1/4)\rUnpacking objects:  50% (2/4)\rUnpacking objects:  75% (3/4)\rUnpacking objects: 100% (4/4)\rUnpacking objects: 100% (4/4), 362 bytes | 362.00 KiB/s, done.\n",
            "remote: Total 4 (delta 2), reused 4 (delta 2), pack-reused 0\u001b[K\n",
            "From https://github.com/otamajakusi/doc-vector\n",
            "   4e19cd7..fd80254  main       -> origin/main\n",
            "Updating 4e19cd7..fd80254\n",
            "Fast-forward\n",
            " sentence-transformers/bert_train.py | 2 \u001b[32m++\u001b[m\n",
            " 1 file changed, 2 insertions(+)\n"
          ]
        }
      ]
    },
    {
      "cell_type": "code",
      "source": [
        "!python3 bert_train.py --train-txt /content/drive/MyDrive/ml-bert/ldcc_train.txt --val-txt /content/drive/MyDrive/ml-bert/ldcc_val.txt --test-txt /content/drive/MyDrive/ml-bert/ldcc_text.txt --output-dir /content/drive/MyDrive/ml-bert"
      ],
      "metadata": {
        "colab": {
          "base_uri": "https://localhost:8080/"
        },
        "id": "SiwmNuDbhAU-",
        "outputId": "2d9638a1-39ec-402e-963e-14e8ca5247aa"
      },
      "execution_count": 32,
      "outputs": [
        {
          "output_type": "stream",
          "name": "stdout",
          "text": [
            "2023-04-22 07:17:02.958018: W tensorflow/compiler/tf2tensorrt/utils/py_utils.cc:38] TF-TRT Warning: Could not find TensorRT\n",
            "label2id={'topic-news': 0, 'smax': 1, 'sports-watch': 2, 'peachy': 3, 'dokujo-tsushin': 4, 'movie-enter': 5, 'livedoor-homme': 6, 'it-life-hack': 7, 'kaden-channel': 8}\n",
            "Using cuda device\n",
            "Some weights of the model checkpoint at cl-tohoku/bert-base-japanese-whole-word-masking were not used when initializing BertForSequenceClassification: ['cls.predictions.transform.LayerNorm.weight', 'cls.predictions.transform.dense.weight', 'cls.predictions.transform.LayerNorm.bias', 'cls.predictions.decoder.weight', 'cls.predictions.transform.dense.bias', 'cls.seq_relationship.weight', 'cls.predictions.bias', 'cls.seq_relationship.bias']\n",
            "- This IS expected if you are initializing BertForSequenceClassification from the checkpoint of a model trained on another task or with another architecture (e.g. initializing a BertForSequenceClassification model from a BertForPreTraining model).\n",
            "- This IS NOT expected if you are initializing BertForSequenceClassification from the checkpoint of a model that you expect to be exactly identical (initializing a BertForSequenceClassification model from a BertForSequenceClassification model).\n",
            "Some weights of BertForSequenceClassification were not initialized from the model checkpoint at cl-tohoku/bert-base-japanese-whole-word-masking and are newly initialized: ['classifier.weight', 'classifier.bias']\n",
            "You should probably TRAIN this model on a down-stream task to be able to use it for predictions and inference.\n",
            "Epoch 1/5\n",
            "----------\n",
            "369it [09:41,  1.58s/it]\n",
            "Average validation loss: 0.13415488175561893\n",
            "Accuracy: 0.9607577807848444\n",
            "Precision: 0.9610099717176611\n",
            "Recall: 0.958425829047871\n",
            "F1 score: 0.959197003621662\n",
            "Epoch 2/5\n",
            "----------\n",
            "369it [09:40,  1.57s/it]\n",
            "Average validation loss: 0.05121222395024708\n",
            "Accuracy: 0.9878213802435724\n",
            "Precision: 0.9873289556200948\n",
            "Recall: 0.9858968580063916\n",
            "F1 score: 0.9864808520204407\n",
            "Epoch 3/5\n",
            "----------\n",
            "369it [09:40,  1.57s/it]\n",
            "Average validation loss: 0.03860615433001405\n",
            "Accuracy: 0.9918809201623816\n",
            "Precision: 0.9907461664955467\n",
            "Recall: 0.9920054402813023\n",
            "F1 score: 0.9912884674367844\n",
            "Epoch 4/5\n",
            "----------\n",
            "369it [09:40,  1.57s/it]\n",
            "Average validation loss: 0.030902823430749224\n",
            "Accuracy: 0.9945872801082544\n",
            "Precision: 0.9940866592623261\n",
            "Recall: 0.9948914431673052\n",
            "F1 score: 0.9944233101461365\n",
            "Epoch 5/5\n",
            "----------\n",
            "369it [09:40,  1.57s/it]\n",
            "Average validation loss: 0.02879570467326709\n",
            "Accuracy: 0.9945872801082544\n",
            "Precision: 0.9940866592623261\n",
            "Recall: 0.9948914431673052\n",
            "F1 score: 0.9944233101461365\n"
          ]
        }
      ]
    },
    {
      "cell_type": "code",
      "source": [
        "!cp /drive/MyDrive/ml-bert/* /content/drive/MyDrive/ml-bert/"
      ],
      "metadata": {
        "id": "5bpVLwetA8UH"
      },
      "execution_count": 33,
      "outputs": []
    },
    {
      "cell_type": "code",
      "source": [
        "from transformers import BertForSequenceClassification\n",
        "from transformers import BertJapaneseTokenizer\n",
        "import torch.nn.functional as F\n",
        "import json\n",
        "from pathlib import Path\n",
        "import random\n",
        "import torch\n",
        "\n",
        "label2id_path = \"/content/drive/MyDrive/ml-bert/label2id.json\"\n",
        "label2id = json.loads(Path(label2id_path).read_text())\n",
        "id2label = {value: key for key, value in label2id.items()}\n",
        "print(label2id)\n",
        "\n",
        "model_path = \"/content/drive/MyDrive/ml-bert/model_save\"\n",
        "model = BertForSequenceClassification.from_pretrained(model_path)\n",
        "\n",
        "tokenizer = BertJapaneseTokenizer.from_pretrained(model_path)\n",
        "\n",
        "test_dataset_path =  \"/content/drive/MyDrive/ml-bert/ldcc_text.txt\"\n",
        "\n",
        "with open(test_dataset_path) as f:\n",
        "    test_dataset = f.read().split(\"\\n\")\n",
        "\n",
        "test_label, test_text = random.choice(test_dataset).split(\"\\t\")\n",
        "print(f\"{test_label}:\\n{test_text}\")\n",
        "\n",
        "encoded_input = tokenizer(\n",
        "    test_text, max_length=512, padding=True, truncation=True, return_tensors=\"pt\"\n",
        ")\n",
        "output = model(**encoded_input)\n",
        "logits = output.logits\n",
        "# sigmoid関数を適用して確率に変換する\n",
        "probs = F.sigmoid(logits)\n",
        "print(probs)\n",
        "max_prob_index = torch.argmax(probs, dim=1)\n",
        "print(max_prob_index)\n",
        "print(id2label[max_prob_index.item()])"
      ],
      "metadata": {
        "colab": {
          "base_uri": "https://localhost:8080/"
        },
        "id": "9bHI4dzpees9",
        "outputId": "c39a46b5-3874-4587-f0ce-f0023633ded2"
      },
      "execution_count": 46,
      "outputs": [
        {
          "output_type": "stream",
          "name": "stdout",
          "text": [
            "{'topic-news': 0, 'smax': 1, 'sports-watch': 2, 'peachy': 3, 'dokujo-tsushin': 4, 'movie-enter': 5, 'livedoor-homme': 6, 'it-life-hack': 7, 'kaden-channel': 8}\n",
            "dokujo-tsushin:\n",
            "http://news.livedoor.com/article/detail/6800344/ 2012-07-28T10:30:00+0900 昔、不幸の手紙は今やチェーンメール かつて「不幸の手紙」なるものがあった。ネットのない時代だったので、葉書に「この手紙を〇人に送らないと災いが訪れる」と書かれていて、現在の中高年世代の人たちは実際に指示された人数分の葉書を送ったそうだ。 それが今やチェーンメールとして姿を変え、その範囲は広がり加速度もついた。子どもたちの世界ではチェーンメールが横行し、「殺される」という内容に怯えた子どもの母親からの相談も警察に寄せられているという。  さすがに独女世代は、「チェーンメールは無視するもの」という概念が浸透していると思う。しかし、みゆきさん(29歳)は震災直後に届いた「地震で大きな被害を受けなかった西日本の関西電力で働いている友人からの情報」だという節電を求める内容に「これをできる限り広めてほしい」と付け加えられたメールを転送してしまったという。送ってきたのが親しい友人だったので、何の疑いも持たなかったそうだが、その送信者の友人もチェーンメールとは全く気付かなかったそうだ。  節電を求める内容は正しいことだが、そのために何人もの人にメールを送ればネットワークに負荷をかけたり、誤った情報が広まったりする。そんなことは普段なら分かっていても、非常事態では冷静な判断は難しい。実際、このメールは国内でかなり広まってしまったようだ。  この他にも、震災後は善意の募金を呼び掛けるチェーンメールが急増した。数々の復興募金などはスルーしていたのに、ついひっかかってしまったというのがゆかりさん(30歳)。  「パリに音楽留学をしていた同級生から『帰国して復興コンサートをするので、できるだけ多くの人に知らせてほしい』というメールが来たんです。場所は未定でしたが日時は記載されていましたので、無視するのも…と思い同級生にはメールしました。後でチェーンメールだと気付いてびっくり。別にチケット代を振り込むように言われたわけでもないんですけど」  何のためにこんな紛らわしいいたずらをしたのかとゆかりさんは憤慨している。チェーンメールの内容には、1.幸福・不幸の手紙系 　2.宣伝系 　3.募集系　4. 誹謗中傷（嫌がらせ）系　 5.その他とある。宣伝系には「出会い系・アダルト系サイト」のアドレスを含むものが多数見られるそうなので、不用意にリンクをクリックしないように注意したい。   「数年前ですがひっかかりました」というのは真美さん(26歳)。 大学時代の先輩から「友達のお父さんが経営しているペットショップが倒産して、2日後には子犬たち20匹が保健所に引き渡される」という内容が届き、ペット好きの真美さんは友人数人にメールを転送してしまったという。その後、その先輩から「さっきのはチェーンメールだった」とお詫びのメールがくるまで、チェーンメールとは全く気付かなかったそうだ。  このようにチェーンメールが一般的な迷惑メールと違う点は「送信者が必ず知り合いである」ということ。チェーンメールを止めるには送ってきた友人に直接止めるよう伝えるか、無視するしかない。内容に関わらず絶対に転送はしないことだ。 (オフィスエムツー／佐枝せつこ)    （参考資料） ・総務省　「チェーンメール」等の取り扱いについて（ご注意） \n",
            "tensor([[0.3010, 0.2823, 0.9996, 0.2858, 0.2932, 0.1899, 0.2081, 0.3372, 0.2474]],\n",
            "       grad_fn=<SigmoidBackward0>)\n",
            "tensor([2])\n",
            "sports-watch\n"
          ]
        }
      ]
    },
    {
      "cell_type": "code",
      "source": [],
      "metadata": {
        "id": "Fw2USjwbiUKV"
      },
      "execution_count": null,
      "outputs": []
    }
  ]
}